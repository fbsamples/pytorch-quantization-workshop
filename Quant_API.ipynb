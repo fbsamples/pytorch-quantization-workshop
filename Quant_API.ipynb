{
 "cells": [
  {
   "cell_type": "code",
   "execution_count": 1,
   "metadata": {},
   "outputs": [],
   "source": [
    "import torch"
   ]
  },
  {
   "cell_type": "markdown",
   "metadata": {},
   "source": [
    "##  Quantization schemes\n",
    "<img src=\"./img/q_scheme.png\" width=\"600\" />\n",
    "\n",
    "Two sets of schemes:\n",
    "* Symmetric\n",
    "* Affine\n",
    "\n",
    "And\n",
    "\n",
    "* Per-channel\n",
    "* Per-Tensor"
   ]
  },
  {
   "cell_type": "markdown",
   "metadata": {},
   "source": [
    "### Per-Channel and Per-Tensor\n",
    "\n",
    "<img src=\"./img/per_t_c.png\" width=\"600\" />"
   ]
  },
  {
   "cell_type": "code",
   "execution_count": 40,
   "metadata": {},
   "outputs": [
    {
     "name": "stdout",
     "output_type": "stream",
     "text": [
      "torch.Size([3, 2])\n"
     ]
    }
   ],
   "source": [
    "x = torch.tensor([\n",
    "    [0.5827, 0.8619], \n",
    "    [0.3827, -0.1982], \n",
    "    [-0.8213, 0.6351]])\n",
    "\n",
    "print(x.size())"
   ]
  },
  {
   "cell_type": "code",
   "execution_count": 41,
   "metadata": {},
   "outputs": [
    {
     "name": "stdout",
     "output_type": "stream",
     "text": [
      "tensor([[ 0.5800,  0.8600],\n",
      "        [ 0.3800, -0.2000],\n",
      "        [-0.8200,  0.6400]], size=(3, 2), dtype=torch.qint8,\n",
      "       quantization_scheme=torch.per_tensor_affine, scale=0.009999999776482582,\n",
      "       zero_point=0)\n"
     ]
    }
   ],
   "source": [
    "# per-tensor\n",
    "\n",
    "scale = torch.tensor(1e-2)\n",
    "zero_pt = torch.tensor(0)\n",
    "\n",
    "xq = torch.quantize_per_tensor(x, scale, zero_pt, dtype=torch.qint8)\n",
    "print(xq)"
   ]
  },
  {
   "cell_type": "code",
   "execution_count": 32,
   "metadata": {},
   "outputs": [],
   "source": [
    "# per-channel\n",
    "\n",
    "channel_axis = 0\n",
    "scale = torch.tensor([1e-2, 1e-3, 5e-2])\n",
    "zero_pt = torch.zeros(3)\n",
    "\n",
    "xq = torch.quantize_per_channel(x, scale, zero_pt, dtype=torch.qint8, axis=0)\n",
    "print(xq)"
   ]
  },
  {
   "cell_type": "markdown",
   "metadata": {},
   "source": [
    "### Symmetric and Affine\n",
    "\n",
    "Symmetric\n",
    "* Input range is calculated symmetrically around 0\n",
    "* Good for quantizing weights\n",
    "* Wasteful for quantizing activations - why?\n",
    "\n",
    "Affine \n",
    "* Clips the input tightly \n",
    "\n",
    "\n",
    "<img src=\"./img/affine-symmetric.png\" width=\"600\" />"
   ]
  },
  {
   "cell_type": "markdown",
   "metadata": {},
   "source": [
    "### Observers\n",
    "\n",
    "<img src=\"./img/observer.png\" width=\"600\" />"
   ]
  },
  {
   "cell_type": "code",
   "execution_count": 52,
   "metadata": {},
   "outputs": [],
   "source": [
    "from torch.ao.quantization.observer import MovingAverageMinMaxObserver, HistogramObserver, MovingAveragePerChannelMinMaxObserver\n",
    "\n",
    "size = (3,4)\n",
    "normal = torch.distributions.normal.Normal(0,1)\n",
    "input = [normal.sample(size) for _ in range(3)]\n",
    "\n",
    "observers = [\n",
    "    MovingAverageMinMaxObserver(qscheme=torch.per_tensor_affine), \n",
    "    HistogramObserver(), \n",
    "    MovingAveragePerChannelMinMaxObserver(qscheme=torch.per_channel_symmetric)\n",
    "    ]\n",
    "\n"
   ]
  },
  {
   "cell_type": "code",
   "execution_count": 53,
   "metadata": {},
   "outputs": [
    {
     "name": "stdout",
     "output_type": "stream",
     "text": [
      "MovingAverageMinMaxObserver (tensor([0.0128]), tensor([128], dtype=torch.int32))\n",
      "HistogramObserver (tensor([0.0148]), tensor([146], dtype=torch.int32))\n",
      "MovingAveragePerChannelMinMaxObserver (tensor([0.0127, 0.0126, 0.0116]), tensor([128, 128, 128]))\n"
     ]
    },
    {
     "name": "stderr",
     "output_type": "stream",
     "text": [
      "/home/ubuntu/anaconda3/envs/pytorch_p38/lib/python3.8/site-packages/torch/ao/quantization/observer.py:886: UserWarning: __floordiv__ is deprecated, and its behavior will change in a future version of pytorch. It currently rounds toward 0 (like the 'trunc' function NOT 'floor'). This results in incorrect rounding for negative values. To keep the current behavior, use torch.div(a, b, rounding_mode='trunc'), or for actual floor division, use torch.div(a, b, rounding_mode='floor').\n",
      "  src_bin_begin // dst_bin_width, 0, self.dst_nbins - 1\n",
      "/home/ubuntu/anaconda3/envs/pytorch_p38/lib/python3.8/site-packages/torch/ao/quantization/observer.py:891: UserWarning: __floordiv__ is deprecated, and its behavior will change in a future version of pytorch. It currently rounds toward 0 (like the 'trunc' function NOT 'floor'). This results in incorrect rounding for negative values. To keep the current behavior, use torch.div(a, b, rounding_mode='trunc'), or for actual floor division, use torch.div(a, b, rounding_mode='floor').\n",
      "  src_bin_end // dst_bin_width, 0, self.dst_nbins - 1\n"
     ]
    }
   ],
   "source": [
    "for obs in observers:\n",
    "  for x in input: \n",
    "      obs(x) \n",
    "  print(obs.__class__.__name__, obs.calculate_qparams())\n"
   ]
  },
  {
   "cell_type": "markdown",
   "metadata": {},
   "source": [
    "### QConfig\n",
    "\n",
    "* High-level abstraction wrapping these knobs in one object\n",
    "* Allows separate configuration for activation and weights of a layer"
   ]
  },
  {
   "cell_type": "code",
   "execution_count": 54,
   "metadata": {},
   "outputs": [],
   "source": [
    "from torch.ao.quantization.observer import MovingAverageMinMaxObserver, MovingAveragePerChannelMinMaxObserver\n",
    "from torch.ao.quantization.qconfig import QConfig\n",
    "\n",
    "my_qconfig = QConfig(\n",
    "  activation=MovingAverageMinMaxObserver.with_args(\n",
    "      qscheme=torch.per_tensor_affine,\n",
    "      dtype=torch.quint8),\n",
    "  weight=MovingAveragePerChannelMinMaxObserver.with_args(\n",
    "      qscheme=torch.per_channel_symmetric)\n",
    ")\n"
   ]
  },
  {
   "cell_type": "markdown",
   "metadata": {},
   "source": [
    "#### Default QConfigs out of the box"
   ]
  },
  {
   "cell_type": "code",
   "execution_count": 55,
   "metadata": {},
   "outputs": [
    {
     "data": {
      "text/plain": [
       "QConfig(activation=functools.partial(<class 'torch.ao.quantization.observer.MinMaxObserver'>, reduce_range=True){}, weight=functools.partial(<class 'torch.ao.quantization.observer.PerChannelMinMaxObserver'>, dtype=torch.qint8, qscheme=torch.per_channel_symmetric){})"
      ]
     },
     "execution_count": 55,
     "metadata": {},
     "output_type": "execute_result"
    }
   ],
   "source": [
    "torch.quantization.qconfig.default_per_channel_qconfig"
   ]
  },
  {
   "cell_type": "code",
   "execution_count": 57,
   "metadata": {},
   "outputs": [
    {
     "name": "stdout",
     "output_type": "stream",
     "text": [
      "QConfigDynamic(activation=functools.partial(<class 'torch.ao.quantization.observer.PlaceholderObserver'>, dtype=torch.float32, compute_dtype=torch.quint8){}, weight=functools.partial(<class 'torch.ao.quantization.observer.MinMaxObserver'>, dtype=torch.qint8, qscheme=torch.per_tensor_symmetric){})\n"
     ]
    }
   ],
   "source": [
    "print(torch.quantization.qconfig.default_dynamic_qconfig)"
   ]
  },
  {
   "cell_type": "code",
   "execution_count": 60,
   "metadata": {},
   "outputs": [
    {
     "ename": "AttributeError",
     "evalue": "module 'torch.ao.quantization' has no attribute 'default_per_channel_weight_observer'",
     "output_type": "error",
     "traceback": [
      "\u001b[0;31m---------------------------------------------------------------------------\u001b[0m",
      "\u001b[0;31mAttributeError\u001b[0m                            Traceback (most recent call last)",
      "\u001b[0;32m/tmp/ipykernel_25396/1398872610.py\u001b[0m in \u001b[0;36m<module>\u001b[0;34m\u001b[0m\n\u001b[0;32m----> 1\u001b[0;31m \u001b[0mtorch\u001b[0m\u001b[0;34m.\u001b[0m\u001b[0mao\u001b[0m\u001b[0;34m.\u001b[0m\u001b[0mquantization\u001b[0m\u001b[0;34m.\u001b[0m\u001b[0mdefault_per_channel_weight_observer\u001b[0m\u001b[0;34m\u001b[0m\u001b[0;34m\u001b[0m\u001b[0m\n\u001b[0m",
      "\u001b[0;31mAttributeError\u001b[0m: module 'torch.ao.quantization' has no attribute 'default_per_channel_weight_observer'"
     ]
    }
   ],
   "source": [
    "torch.ao.quantization.default_per_channel_weight_observer"
   ]
  },
  {
   "cell_type": "code",
   "execution_count": 58,
   "metadata": {},
   "outputs": [
    {
     "name": "stdout",
     "output_type": "stream",
     "text": [
      "QConfigDynamic(activation=functools.partial(<class 'torch.ao.quantization.observer.PlaceholderObserver'>, dtype=torch.float32, compute_dtype=torch.quint8){}, weight=functools.partial(<class 'torch.ao.quantization.observer.PerChannelMinMaxObserver'>, dtype=torch.qint8, qscheme=torch.per_channel_symmetric){})\n"
     ]
    }
   ],
   "source": [
    "print(torch.quantization.qconfig.per_channel_dynamic_qconfig)"
   ]
  }
 ],
 "metadata": {
  "interpreter": {
   "hash": "5b2c14c5f2a3b21e6c2412c8196f5145870350e81c0b737cae3e5c60eb1e1eac"
  },
  "kernelspec": {
   "display_name": "Python 3.8.12 ('pytorch_p38': conda)",
   "language": "python",
   "name": "python3"
  },
  "language_info": {
   "codemirror_mode": {
    "name": "ipython",
    "version": 3
   },
   "file_extension": ".py",
   "mimetype": "text/x-python",
   "name": "python",
   "nbconvert_exporter": "python",
   "pygments_lexer": "ipython3",
   "version": "3.8.12"
  },
  "orig_nbformat": 4
 },
 "nbformat": 4,
 "nbformat_minor": 2
}
